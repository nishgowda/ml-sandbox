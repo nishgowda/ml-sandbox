{
  "nbformat": 4,
  "nbformat_minor": 0,
  "metadata": {
    "colab": {
      "name": "Linear Regresson.ipynb",
      "provenance": [],
      "collapsed_sections": [],
      "authorship_tag": "ABX9TyMZ8SJnaVZkLysanzrDCzhp",
      "include_colab_link": true
    },
    "kernelspec": {
      "name": "python3",
      "display_name": "Python 3"
    }
  },
  "cells": [
    {
      "cell_type": "markdown",
      "metadata": {
        "id": "view-in-github",
        "colab_type": "text"
      },
      "source": [
        "<a href=\"https://colab.research.google.com/github/nishgowda/ml-sandbox/blob/master/pytorch/Linear_Regresson.ipynb\" target=\"_parent\"><img src=\"https://colab.research.google.com/assets/colab-badge.svg\" alt=\"Open In Colab\"/></a>"
      ]
    },
    {
      "cell_type": "code",
      "metadata": {
        "id": "RSfwsGsKZ6_Q",
        "colab_type": "code",
        "colab": {}
      },
      "source": [
        "import torch\n",
        "import torch.nn as nn\n",
        "import matplotlib.pyplot as plt\n",
        "import numpy as np"
      ],
      "execution_count": 2,
      "outputs": []
    },
    {
      "cell_type": "code",
      "metadata": {
        "id": "s-23d-7Z-bnJ",
        "colab_type": "code",
        "colab": {
          "base_uri": "https://localhost:8080/",
          "height": 296
        },
        "outputId": "999966e7-821c-476f-9c8f-25a0883b5208"
      },
      "source": [
        "X = torch.randn(100, 1) * 10\n",
        "y = X + 3 * torch.randn(100, 1)\n",
        "plt.plot(X.numpy(), y.numpy(), 'o')\n",
        "plt.ylabel('y')\n",
        "plt.xlabel('x')"
      ],
      "execution_count": 3,
      "outputs": [
        {
          "output_type": "execute_result",
          "data": {
            "text/plain": [
              "Text(0.5, 0, 'x')"
            ]
          },
          "metadata": {
            "tags": []
          },
          "execution_count": 3
        },
        {
          "output_type": "display_data",
          "data": {
            "image/png": "[encoded data removed]",
            "text/plain": [
              "<Figure size 432x288 with 1 Axes>"
            ]
          },
          "metadata": {
            "tags": [],
            "needs_background": "light"
          }
        }
      ]
    },
    {
      "cell_type": "code",
      "metadata": {
        "id": "Sxw2wMTa5tmS",
        "colab_type": "code",
        "colab": {}
      },
      "source": [
        "class LR(nn.Module):\n",
        "  def __init__(self, input_size, output_size):\n",
        "    super().__init__()\n",
        "    self.linear = nn.Linear(input_size, output_size)\n",
        "  def forward(self, x):\n",
        "    pred = self.linear(x)\n",
        "    return pred"
      ],
      "execution_count": 4,
      "outputs": []
    },
    {
      "cell_type": "code",
      "metadata": {
        "id": "Ol-W3Iq9Zm-5",
        "colab_type": "code",
        "colab": {}
      },
      "source": [
        "torch.manual_seed(1)\n",
        "model = LR(1, 1)"
      ],
      "execution_count": 5,
      "outputs": []
    },
    {
      "cell_type": "code",
      "metadata": {
        "id": "LlqJLWc7_N_v",
        "colab_type": "code",
        "colab": {}
      },
      "source": [
        "[w, b] = model.parameters()\n",
        "def get_params():\n",
        "  return(w[0][0].item(), b[0].item())"
      ],
      "execution_count": 6,
      "outputs": []
    },
    {
      "cell_type": "code",
      "metadata": {
        "id": "b71FvTis_pX3",
        "colab_type": "code",
        "colab": {}
      },
      "source": [
        "def plot_fit(title):\n",
        "  plt.title = title\n",
        "  w1, b1 = get_params()\n",
        "  x1 = np.array([-30, 30])\n",
        "  y1 = w1 * x1 + b1\n",
        "  plt.plot(x1, y1, 'r')\n",
        "  plt.scatter(X, y)\n",
        "  plt.show()"
      ],
      "execution_count": 7,
      "outputs": []
    },
    {
      "cell_type": "code",
      "metadata": {
        "id": "sP-TN8eHAMqV",
        "colab_type": "code",
        "colab": {
          "base_uri": "https://localhost:8080/",
          "height": 265
        },
        "outputId": "24dc304b-482f-4a9f-ca67-71b250cd8c7b"
      },
      "source": [
        "plot_fit(\"Initial Model\")"
      ],
      "execution_count": 8,
      "outputs": [
        {
          "output_type": "display_data",
          "data": {
            "image/png": "[encoded data removed]",
            "text/plain": [
              "<Figure size 432x288 with 1 Axes>"
            ]
          },
          "metadata": {
            "tags": [],
            "needs_background": "light"
          }
        }
      ]
    },
    {
      "cell_type": "code",
      "metadata": {
        "id": "HZR477uVUMgc",
        "colab_type": "code",
        "colab": {
          "base_uri": "https://localhost:8080/",
          "height": 1000
        },
        "outputId": "d5e8965c-9ada-49ae-e31b-a70e33c584c7"
      },
      "source": [
        "criterion = nn.MSELoss() # Mean Squared Loss\n",
        "optimizer = torch.optim.SGD(model.parameters(), lr=0.0001) # Stohcastic Gradient Descent\n",
        "epochs = 100\n",
        "losses = []\n",
        "for i in range(epochs):\n",
        "  y_pred = model.forward(X)\n",
        "  loss = criterion(y_pred, y)\n",
        "  print(\"Epoch: \", i, \"Loss :\" , loss.item())\n",
        "  losses.append(loss)\n",
        "  optimizer.zero_grad()\n",
        "  loss.backward()\n",
        "  optimizer.step()"
      ],
      "execution_count": 11,
      "outputs": [
        {
          "output_type": "stream",
          "text": [
            "Epoch:  0 Loss : 267000769150976.0\n",
            "Epoch:  1 Loss : 255583252905984.0\n",
            "Epoch:  2 Loss : 244654003978240.0\n",
            "Epoch:  3 Loss : 234192067624960.0\n",
            "Epoch:  4 Loss : 224177562845184.0\n",
            "Epoch:  5 Loss : 214591279726592.0\n",
            "Epoch:  6 Loss : 205414914326528.0\n",
            "Epoch:  7 Loss : 196630917677056.0\n",
            "Epoch:  8 Loss : 188222562893824.0\n",
            "Epoch:  9 Loss : 180173777403904.0\n",
            "Epoch:  10 Loss : 172469176500224.0\n",
            "Epoch:  11 Loss : 165094029787136.0\n",
            "Epoch:  12 Loss : 158034294734848.0\n",
            "Epoch:  13 Loss : 151276398575616.0\n",
            "Epoch:  14 Loss : 144807489961984.0\n",
            "Epoch:  15 Loss : 138615246028800.0\n",
            "Epoch:  16 Loss : 132687771729920.0\n",
            "Epoch:  17 Loss : 127013775998976.0\n",
            "Epoch:  18 Loss : 121582403977216.0\n",
            "Epoch:  19 Loss : 116383295733760.0\n",
            "Epoch:  20 Loss : 111406510768128.0\n",
            "Epoch:  21 Loss : 106642544787456.0\n",
            "Epoch:  22 Loss : 102082279374848.0\n",
            "Epoch:  23 Loss : 97717015543808.0\n",
            "Epoch:  24 Loss : 93538440183808.0\n",
            "Epoch:  25 Loss : 89538550562816.0\n",
            "Epoch:  26 Loss : 85709687881728.0\n",
            "Epoch:  27 Loss : 82044562440192.0\n",
            "Epoch:  28 Loss : 78536186527744.0\n",
            "Epoch:  29 Loss : 75177815703552.0\n",
            "Epoch:  30 Loss : 71963057848320.0\n",
            "Epoch:  31 Loss : 68885768306688.0\n",
            "Epoch:  32 Loss : 65940075053056.0\n",
            "Epoch:  33 Loss : 63120332554240.0\n",
            "Epoch:  34 Loss : 60421176295424.0\n",
            "Epoch:  35 Loss : 57837443088384.0\n",
            "Epoch:  36 Loss : 55364200431616.0\n",
            "Epoch:  37 Loss : 52996708761600.0\n",
            "Epoch:  38 Loss : 50730463395840.0\n",
            "Epoch:  39 Loss : 48561119035392.0\n",
            "Epoch:  40 Loss : 46484544290816.0\n",
            "Epoch:  41 Loss : 44496767156224.0\n",
            "Epoch:  42 Loss : 42593983397888.0\n",
            "Epoch:  43 Loss : 40772581720064.0\n",
            "Epoch:  44 Loss : 39029064073216.0\n",
            "Epoch:  45 Loss : 37360104374272.0\n",
            "Epoch:  46 Loss : 35762510757888.0\n",
            "Epoch:  47 Loss : 34233225576448.0\n",
            "Epoch:  48 Loss : 32769350565888.0\n",
            "Epoch:  49 Loss : 31368060862464.0\n",
            "Epoch:  50 Loss : 30026701471744.0\n",
            "Epoch:  51 Loss : 28742699188224.0\n",
            "Epoch:  52 Loss : 27513600344064.0\n",
            "Epoch:  53 Loss : 26337064517632.0\n",
            "Epoch:  54 Loss : 25210833076224.0\n",
            "Epoch:  55 Loss : 24132766924800.0\n",
            "Epoch:  56 Loss : 23100804562944.0\n",
            "Epoch:  57 Loss : 22112966279168.0\n",
            "Epoch:  58 Loss : 21167373025280.0\n",
            "Epoch:  59 Loss : 20262210764800.0\n",
            "Epoch:  60 Loss : 19395755638784.0\n",
            "Epoch:  61 Loss : 18566352994304.0\n",
            "Epoch:  62 Loss : 17772417384448.0\n",
            "Epoch:  63 Loss : 17012431519744.0\n",
            "Epoch:  64 Loss : 16284944171008.0\n",
            "Epoch:  65 Loss : 15588564926464.0\n",
            "Epoch:  66 Loss : 14921967337472.0\n",
            "Epoch:  67 Loss : 14283868995584.0\n",
            "Epoch:  68 Loss : 13673065086976.0\n",
            "Epoch:  69 Loss : 13088375963648.0\n",
            "Epoch:  70 Loss : 12528688037888.0\n",
            "Epoch:  71 Loss : 11992938053632.0\n",
            "Epoch:  72 Loss : 11480096309248.0\n",
            "Epoch:  73 Loss : 10989183434752.0\n",
            "Epoch:  74 Loss : 10519263051776.0\n",
            "Epoch:  75 Loss : 10069437579264.0\n",
            "Epoch:  76 Loss : 9638846136320.0\n",
            "Epoch:  77 Loss : 9226669785088.0\n",
            "Epoch:  78 Loss : 8832117899264.0\n",
            "Epoch:  79 Loss : 8454439174144.0\n",
            "Epoch:  80 Loss : 8092909043712.0\n",
            "Epoch:  81 Loss : 7746839117824.0\n",
            "Epoch:  82 Loss : 7415569317888.0\n",
            "Epoch:  83 Loss : 7098463158272.0\n",
            "Epoch:  84 Loss : 6794919280640.0\n",
            "Epoch:  85 Loss : 6504354152448.0\n",
            "Epoch:  86 Loss : 6226214649856.0\n",
            "Epoch:  87 Loss : 5959969669120.0\n",
            "Epoch:  88 Loss : 5705109602304.0\n",
            "Epoch:  89 Loss : 5461147385856.0\n",
            "Epoch:  90 Loss : 5227617452032.0\n",
            "Epoch:  91 Loss : 5004073107456.0\n",
            "Epoch:  92 Loss : 4790089678848.0\n",
            "Epoch:  93 Loss : 4585254551552.0\n",
            "Epoch:  94 Loss : 4389180014592.0\n",
            "Epoch:  95 Loss : 4201489367040.0\n",
            "Epoch:  96 Loss : 4021824782336.0\n",
            "Epoch:  97 Loss : 3849843376128.0\n",
            "Epoch:  98 Loss : 3685216419840.0\n",
            "Epoch:  99 Loss : 3527628816384.0\n"
          ],
          "name": "stdout"
        }
      ]
    },
    {
      "cell_type": "code",
      "metadata": {
        "id": "EnYgc1Y2ZIED",
        "colab_type": "code",
        "colab": {
          "base_uri": "https://localhost:8080/",
          "height": 307
        },
        "outputId": "b79462aa-c710-4fb0-c7c8-17f604e103a0"
      },
      "source": [
        "plt.plot(range(epochs), losses)\n",
        "plt.ylabel(\"Loss\")\n",
        "plt.xlabel(\"Epoch\")"
      ],
      "execution_count": 12,
      "outputs": [
        {
          "output_type": "execute_result",
          "data": {
            "text/plain": [
              "Text(0.5, 0, 'Epoch')"
            ]
          },
          "metadata": {
            "tags": []
          },
          "execution_count": 12
        },
        {
          "output_type": "display_data",
          "data": {
            "image/png": "[encoded data removed]",
            "text/plain": [
              "<Figure size 432x288 with 1 Axes>"
            ]
          },
          "metadata": {
            "tags": [],
            "needs_background": "light"
          }
        }
      ]
    }
  ]
}