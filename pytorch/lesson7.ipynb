{
  "nbformat": 4,
  "nbformat_minor": 0,
  "metadata": {
    "colab": {
      "name": "lesson7.ipynb",
      "provenance": [],
      "collapsed_sections": [],
      "mount_file_id": "1lQ-HtCcDjhzK58hRI3zMEGVmOagJ3_ns",
      "authorship_tag": "ABX9TyN7Pnh/90nHnjUDWYJjpEfD",
      "include_colab_link": true
    },
    "kernelspec": {
      "name": "python3",
      "display_name": "Python 3"
    },
    "accelerator": "GPU"
  },
  "cells": [
    {
      "cell_type": "markdown",
      "metadata": {
        "id": "view-in-github",
        "colab_type": "text"
      },
      "source": [
        "<a href=\"https://colab.research.google.com/github/nishgowda/ml-sandbox/blob/master/lesson7.ipynb\" target=\"_parent\"><img src=\"https://colab.research.google.com/assets/colab-badge.svg\" alt=\"Open In Colab\"/></a>"
      ]
    },
    {
      "cell_type": "code",
      "metadata": {
        "id": "0xWsLRhvd_g1",
        "colab_type": "code",
        "colab": {}
      },
      "source": [
        "import os\n",
        "import cv2\n",
        "import numpy as np\n",
        "from tqdm import tqdm\n",
        "import matplotlib.pyplot as plt\n",
        "import torch\n",
        "import torch.nn as nn\n",
        "import torch.nn.functional as F\n",
        "import torch.optim as optim\n",
        "from google.colab import drive\n",
        "\n",
        "if torch.cuda.is_available():\n",
        "  device = torch.device(\"cuda:0\")\n",
        "  print(\"running on the GPU\")\n",
        "else:\n",
        "  device = torch.device(\"cupa\")\n",
        "  print(\"running on the CPU\")\n",
        "\n",
        "\t\n",
        "REBUILD_DATA = False\n",
        "drive_path = \"/content/drive/My Drive/Images/PetImages\"\n",
        "class DogsVCats():\n",
        "\tIMG_SIZE = 50\n",
        "\tCATS = f\"{drive_path}/Cat\"\n",
        "\tDOGS = f\"{drive_path}/Dog\"\n",
        "\tLABELS = {CATS : 0, DOGS : 1}\n",
        "\ttraining_data = []\n",
        "\tcatcount = 0\n",
        "\tdogcount = 0\n",
        "\t\n",
        "\tdef make_training_data(self):\n",
        "\t\tfor label in self.LABELS:\n",
        "\t\t\tprint(label)\n",
        "\t\t\tfor f in tqdm(os.listdir(label)):\n",
        "\t\t\t\ttry:\n",
        "\t\t\t\t\tpath = os.path.join(label, f)\n",
        "\t\t\t\t\timg = cv2.imread(path, cv2.IMREAD_GRAYSCALE)\n",
        "\t\t\t\t\timg = cv2.resize(img, (self.IMG_SIZE, self.IMG_SIZE))\n",
        "\t\t\t\t\tself.training_data.append([np.array(img), np.eye(2)[self.LABELS[label]]])\n",
        "\t\t\t\t\n",
        "\t\t\t\t\tif label == self.CATS:\n",
        "\t\t\t\t\t\tself.catcount += 1\n",
        "\t\t\t\t\telif label == self.DOGS:\n",
        "\t\t\t\t\t\tself.dogcount += 1\n",
        "\t\t\t\texcept Exception as e:\n",
        "\t\t\t\t\t\tpass\n",
        "\t\tnp.random.shuffle(self.training_data)\n",
        "\t\tnp.save(\"training_data.npy\", self.training_data)\n",
        "\t\tprint(\"Cats: \", self.catcount)\n",
        "\t\tprint(\"Dogs: \", self.dogcount) \n",
        "if REBUILD_DATA:\n",
        "\tdogvcats = DogsVCats()\n",
        "\tdogvcats.make_training_data()\n",
        "\n",
        "data_path = \"/content/ml-sandbox/pytorch/\"\n",
        "training_data = np.load(f\"{data_path}training_data.npy\", allow_pickle=True)\n",
        "#print(len(training_data))\n",
        "#print(training_data[1])\n",
        "#plt.imshow(training_data[1][0], cmap = \"gray\")\n",
        "#plt.show()\n",
        "\n",
        "\n",
        "class Net(nn.Module):\n",
        "        def __init__(self):\n",
        "                super().__init__()\n",
        "                self.conv1 = nn.Conv2d(1, 32, 5)\n",
        "                self.conv2 = nn.Conv2d(32, 64, 5)\n",
        "                self.conv3 = nn.Conv2d(64, 128, 5)\n",
        "                \n",
        "                x = torch.randn(50,50).view(-1,1,50,50)\n",
        "                self._to_linear = None\n",
        "                self.convs(x)\n",
        "\n",
        "                self.fc1 = nn.Linear(self._to_linear, 512)\n",
        "                self.fc2 = nn.Linear(512, 2)\n",
        "\n",
        "        def convs(self, x):\n",
        "                x = F.max_pool2d(F.relu(self.conv1(x)), (2,2))\n",
        "                x = F.max_pool2d(F.relu(self.conv2(x)), (2,2))\n",
        "                x = F.max_pool2d(F.relu(self.conv3(x)), (2,2))\n",
        "                \n",
        "                #print(x[0].shape)\n",
        "                if self._to_linear is None:\n",
        "                        self._to_linear = x[0].shape[0] * x[0].shape[1] * x[0].shape[2]\n",
        "                return x\n",
        "        \n",
        "        def forward(self, x):\n",
        "                x = self.convs(x)\n",
        "                x = x.view(-1, self._to_linear)\n",
        "                x = F.relu(self.fc1(x))\n",
        "                x = self.fc2(x)\n",
        "                return x\n",
        "\n",
        "net = Net()\n",
        "\n",
        "X = torch.Tensor([i[0] for i in training_data]).view(-1, 50, 50)\n",
        "X = X/225.0\n",
        "y = torch.Tensor([i[1] for i in training_data])\n",
        "\n",
        "VAL_PCT = 0.1\n",
        "val_size = int(len(X)*VAL_PCT)\n",
        "#print(val_size)\n",
        "\n",
        "train_X = X[:-val_size]\n",
        "train_y = y[:-val_size]\n",
        "\n",
        "test_X = X[-val_size:]\n",
        "test_y = y[-val_size:]\n",
        "#print(len(train_X))\n",
        "#print(len(test_X))"
      ],
      "execution_count": 13,
      "outputs": []
    },
    {
      "cell_type": "code",
      "metadata": {
        "id": "2GQravAqeDn2",
        "colab_type": "code",
        "colab": {
          "base_uri": "https://localhost:8080/",
          "height": 34
        },
        "outputId": "4e20985e-5e2b-4e7d-ec4d-73411feab6b3"
      },
      "source": [
        "device = torch.device(\"cuda:0\")\n",
        "device"
      ],
      "execution_count": null,
      "outputs": [
        {
          "output_type": "execute_result",
          "data": {
            "text/plain": [
              "device(type='cuda', index=0)"
            ]
          },
          "metadata": {
            "tags": []
          },
          "execution_count": 5
        }
      ]
    },
    {
      "cell_type": "code",
      "metadata": {
        "id": "HRdTbqCbehQE",
        "colab_type": "code",
        "colab": {}
      },
      "source": [
        "torch.cuda.device_count()"
      ],
      "execution_count": null,
      "outputs": []
    },
    {
      "cell_type": "code",
      "metadata": {
        "id": "54j7SjqkgLmB",
        "colab_type": "code",
        "colab": {}
      },
      "source": [
        "net = Net().to(device)"
      ],
      "execution_count": 14,
      "outputs": []
    },
    {
      "cell_type": "code",
      "metadata": {
        "id": "HfQcH4QEgdRg",
        "colab_type": "code",
        "colab": {
          "base_uri": "https://localhost:8080/",
          "height": 119
        },
        "outputId": "77c9ca9d-ec00-42f8-dc2e-8ef83e6dd5ba"
      },
      "source": [
        "def train(net):\n",
        "  BATCH_SIZE = 100\n",
        "  EPOCHS = 3\n",
        "  optimizer = optim.Adam(net.parameters(), lr = 0.001)\n",
        "  loss_function = nn.MSELoss()\n",
        "  for epoch in range(EPOCHS):\n",
        "    for i in tqdm(range(0, len(train_X), BATCH_SIZE)):\n",
        "      batch_x = train_X[i:i+BATCH_SIZE].view(-1,1 ,50,50)\n",
        "      batch_y = train_y[i:i+BATCH_SIZE]\n",
        "      batch_x, batch_y = batch_x.to(device),batch_y.to(device),\n",
        "      net.zero_grad()\n",
        "      outputs = net(batch_x)\n",
        "      loss = loss_function(outputs, batch_y)\n",
        "      loss.backward()\n",
        "      optimizer.step()\n",
        "\n",
        "    print(f\"epoch: {epoch}. Loss {loss}\")\n",
        "\n",
        "train(net)"
      ],
      "execution_count": 21,
      "outputs": [
        {
          "output_type": "stream",
          "text": [
            "100%|██████████| 225/225 [00:05<00:00, 42.49it/s]\n",
            "  3%|▎         | 6/225 [00:00<00:04, 49.54it/s]"
          ],
          "name": "stderr"
        },
        {
          "output_type": "stream",
          "text": [
            "epoch: 0. Loss 0.14100100100040436\n"
          ],
          "name": "stdout"
        },
        {
          "output_type": "stream",
          "text": [
            "100%|██████████| 225/225 [00:05<00:00, 43.25it/s]\n",
            "  3%|▎         | 6/225 [00:00<00:04, 49.61it/s]"
          ],
          "name": "stderr"
        },
        {
          "output_type": "stream",
          "text": [
            "epoch: 1. Loss 0.11647967994213104\n"
          ],
          "name": "stdout"
        },
        {
          "output_type": "stream",
          "text": [
            "100%|██████████| 225/225 [00:05<00:00, 43.10it/s]"
          ],
          "name": "stderr"
        },
        {
          "output_type": "stream",
          "text": [
            "epoch: 2. Loss 0.097694531083107\n"
          ],
          "name": "stdout"
        },
        {
          "output_type": "stream",
          "text": [
            "\n"
          ],
          "name": "stderr"
        }
      ]
    },
    {
      "cell_type": "code",
      "metadata": {
        "id": "ss4QS1nrj9ec",
        "colab_type": "code",
        "colab": {
          "base_uri": "https://localhost:8080/",
          "height": 51
        },
        "outputId": "a840dde6-53fe-4fa4-ce20-9f79449c5666"
      },
      "source": [
        "def test(net):\n",
        "  correct = 0 \n",
        "  total = 0\n",
        "  with torch.no_grad():\n",
        "    for i in tqdm(range(len(test_X))):\n",
        "      real_class = torch.argmax(test_y[i]).to(device)\n",
        "      net_out = net(test_X[i].view(-1,1,50,50).to(device))[0]\n",
        "      predicted_class = torch.argmax(net_out)\n",
        "      if predicted_class == real_class:\n",
        "        correct += 1\n",
        "      total += 1\n",
        "  print(\"Accuracy: \", round(correct/total, 3))\n",
        "test(net)"
      ],
      "execution_count": 22,
      "outputs": [
        {
          "output_type": "stream",
          "text": [
            "100%|██████████| 2494/2494 [00:02<00:00, 881.73it/s]"
          ],
          "name": "stderr"
        },
        {
          "output_type": "stream",
          "text": [
            "Accuracy:  0.748\n"
          ],
          "name": "stdout"
        },
        {
          "output_type": "stream",
          "text": [
            "\n"
          ],
          "name": "stderr"
        }
      ]
    }
  ]
}
